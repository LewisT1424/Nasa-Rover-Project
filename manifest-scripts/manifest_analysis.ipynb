{
 "cells": [
  {
   "cell_type": "code",
   "execution_count": 9,
   "id": "ecddd818",
   "metadata": {},
   "outputs": [],
   "source": [
    "import polars as pl\n",
    "import json"
   ]
  },
  {
   "cell_type": "code",
   "execution_count": 20,
   "id": "b843fb7a",
   "metadata": {},
   "outputs": [],
   "source": [
    "curiosity_manifest_data = list(pl.read_json('output_files/manifest_data.json')['curiosity_manifest_data'])[0]['data']\n",
    "opportunity_manifest_data = list(pl.read_json('output_files/manifest_data.json')['opportunity_manifest_data'])[0]['data']\n",
    "spirit_manifest_data = list(pl.read_json('output_files/manifest_data.json')['spirit_manifest_data'])[0]['data']"
   ]
  },
  {
   "cell_type": "code",
   "execution_count": 30,
   "id": "2fc7d92d",
   "metadata": {},
   "outputs": [],
   "source": [
    "data = [curiosity_manifest_data, opportunity_manifest_data, spirit_manifest_data]\n",
    "\n",
    "stats = []\n",
    "for d in data:\n",
    "    stats.append({'name': d['name'],\n",
    "                  'info': {\n",
    "                    'max_sol': d['max_sol'],\n",
    "                    'total_photos': d['total_photos'],\n",
    "                    'launch_date': d['launch_date'],\n",
    "                    'landing_date': d['landing_date'],\n",
    "                    'status': d['status']\n",
    "                    }\n",
    "                })\n",
    "\n"
   ]
  },
  {
   "cell_type": "code",
   "execution_count": 31,
   "id": "0150ecf5",
   "metadata": {},
   "outputs": [
    {
     "data": {
      "text/plain": [
       "[{'name': 'Curiosity',\n",
       "  'info': {'max_sol': 4565,\n",
       "   'total_photos': 701701,\n",
       "   'launch_date': '2011-11-26',\n",
       "   'landing_date': '2012-08-06',\n",
       "   'status': 'active'}},\n",
       " {'name': 'Opportunity',\n",
       "  'info': {'max_sol': 5111,\n",
       "   'total_photos': 198439,\n",
       "   'launch_date': '2003-07-07',\n",
       "   'landing_date': '2004-01-25',\n",
       "   'status': 'complete'}},\n",
       " {'name': 'Spirit',\n",
       "  'info': {'max_sol': 2208,\n",
       "   'total_photos': 124550,\n",
       "   'launch_date': '2003-06-10',\n",
       "   'landing_date': '2004-01-04',\n",
       "   'status': 'complete'}}]"
      ]
     },
     "execution_count": 31,
     "metadata": {},
     "output_type": "execute_result"
    }
   ],
   "source": [
    "stats"
   ]
  }
 ],
 "metadata": {
  "kernelspec": {
   "display_name": "base",
   "language": "python",
   "name": "python3"
  },
  "language_info": {
   "codemirror_mode": {
    "name": "ipython",
    "version": 3
   },
   "file_extension": ".py",
   "mimetype": "text/x-python",
   "name": "python",
   "nbconvert_exporter": "python",
   "pygments_lexer": "ipython3",
   "version": "3.11.7"
  }
 },
 "nbformat": 4,
 "nbformat_minor": 5
}
